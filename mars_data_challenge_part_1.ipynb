{
 "cells": [
  {
   "cell_type": "code",
   "execution_count": 1,
   "id": "f801c146",
   "metadata": {},
   "outputs": [],
   "source": [
    "from splinter import Browser\n",
    "from bs4 import BeautifulSoup as soup\n",
    "from webdriver_manager.chrome import ChromeDriverManager"
   ]
  },
  {
   "cell_type": "code",
   "execution_count": 2,
   "id": "99304bff",
   "metadata": {},
   "outputs": [],
   "source": [
    "#!pip install --upgrade splinter==0.18\n",
    "#!pip install selenium"
   ]
  },
  {
   "cell_type": "code",
   "execution_count": 3,
   "id": "62c4e472",
   "metadata": {},
   "outputs": [],
   "source": [
    "# Set up Splinter\n",
    "executable_path = {'executable_path': ChromeDriverManager().install()}\n",
    "browser = Browser('chrome', **executable_path, headless=False)"
   ]
  },
  {
   "cell_type": "code",
   "execution_count": 4,
   "id": "e005792a",
   "metadata": {},
   "outputs": [
    {
     "data": {
      "text/plain": [
       "True"
      ]
     },
     "execution_count": 4,
     "metadata": {},
     "output_type": "execute_result"
    }
   ],
   "source": [
    "# Visit the Mars Exploration Program site\n",
    "url = 'https://redplanetscience.com'\n",
    "browser.visit(url)\n",
    "# Optional delay for loading the page\n",
    "browser.is_element_present_by_css('div.list_text', wait_time=1)"
   ]
  },
  {
   "cell_type": "code",
   "execution_count": 5,
   "id": "60a176e7",
   "metadata": {},
   "outputs": [],
   "source": [
    "html = browser.html\n",
    "news_soup = soup(html, 'html.parser')\n",
    "slide_elem = news_soup.select_one('div.list_text')"
   ]
  },
  {
   "cell_type": "code",
   "execution_count": 6,
   "id": "4f2ed63f",
   "metadata": {},
   "outputs": [
    {
     "name": "stdout",
     "output_type": "stream",
     "text": [
      "<div class=\"content_title\">NASA's Perseverance Rover Will Carry First Spacesuit Materials to Mars</div>\n"
     ]
    }
   ],
   "source": [
    "title_elem = slide_elem.find('div', class_='content_title')\n",
    "print(title_elem)"
   ]
  },
  {
   "cell_type": "code",
   "execution_count": 7,
   "id": "801488d5",
   "metadata": {},
   "outputs": [
    {
     "name": "stdout",
     "output_type": "stream",
     "text": [
      "NASA's Perseverance Rover Will Carry First Spacesuit Materials to Mars\n"
     ]
    }
   ],
   "source": [
    "title = title_elem.get_text()\n",
    "print(title)"
   ]
  },
  {
   "cell_type": "code",
   "execution_count": 8,
   "id": "99554916",
   "metadata": {},
   "outputs": [
    {
     "data": {
      "text/plain": [
       "'In a Q&A, spacesuit designer Amy Ross explains how five samples, including a piece of helmet visor, will be tested aboard the rover, which is targeting a July 30 launch. '"
      ]
     },
     "execution_count": 8,
     "metadata": {},
     "output_type": "execute_result"
    }
   ],
   "source": [
    "# Use the parent element to find the paragraph text\n",
    "news_p = slide_elem.find('div', class_='article_teaser_body').text\n",
    "news_p"
   ]
  },
  {
   "cell_type": "code",
   "execution_count": 38,
   "id": "f3d87c37",
   "metadata": {},
   "outputs": [
    {
     "name": "stdout",
     "output_type": "stream",
     "text": [
      "[{'Title': \"NASA's Perseverance Rover Will Carry First Spacesuit Materials to Mars\", 'Preview': 'In a Q&A, spacesuit designer Amy Ross explains how five samples, including a piece of helmet visor, will be tested aboard the rover, which is targeting a July 30 launch. '}, {'Title': \"NASA's MAVEN Observes Martian Night Sky Pulsing in Ultraviolet Light\", 'Preview': 'Vast areas of the Martian night sky pulse in ultraviolet light, according to images from NASA’s MAVEN spacecraft. The results are being used to illuminate complex circulation patterns in the Martian atmosphere.'}, {'Title': \"Follow NASA's Perseverance Rover in Real Time on Its Way to Mars\", 'Preview': \"A crisply rendered web application can show you where the agency's Mars 2020 mission is right now as it makes its way to the Red Planet for a Feb. 18, 2021, landing.\"}, {'Title': 'Join NASA for the Launch of the Mars 2020 Perseverance Rover', 'Preview': 'No matter where you live, choose from a menu of activities to join NASA as we \"Countdown to Mars\" and launch the Perseverance rover to the Red Planet.'}, {'Title': \"NASA's Perseverance Rover Bringing 3D-Printed Metal Parts to Mars\", 'Preview': \"For hobbyists and makers, 3D printing expands creative possibilities; for specialized engineers, it's also key to next-generation spacecraft design.\"}, {'Title': \"NASA's Perseverance Rover 100 Days Out\", 'Preview': \"Mark your calendars: The agency's latest rover has only about 8,640,000 seconds to go before it touches down on the Red Planet, becoming history's next Mars car.\"}, {'Title': \"The Launch Is Approaching for NASA's Next Mars Rover, Perseverance\", 'Preview': \"The Red Planet's surface has been visited by eight NASA spacecraft. The ninth will be the first that includes a roundtrip ticket in its flight plan. \"}, {'Title': 'NASA Perseverance Mars Rover Scientists Train in the Nevada Desert', 'Preview': \"Team members searched for signs of ancient microscopic life there, just as NASA's latest rover will on the Red Planet next year.\"}, {'Title': 'NASA Mars Mission Connects With Bosnian and Herzegovinian Town', 'Preview': 'A letter from NASA was presented to the mayor of Jezero, Bosnia-Herzegovina, honoring the connection between the town and Jezero Crater, the Mars 2020 rover landing site.'}, {'Title': 'Two of a Space Kind: Apollo 12 and Mars 2020', 'Preview': 'Apollo 12 and the upcoming Mars 2020 mission may be separated by half a century, but they share several goals unique in the annals of space exploration.'}, {'Title': 'NASA Establishes Board to Initially Review Mars Sample Return Plans', 'Preview': 'The board will assist with analysis of current plans and goals for one of the most difficult missions humanity has ever undertaken.'}, {'Title': \"A Martian Roundtrip: NASA's Perseverance Rover Sample Tubes\", 'Preview': \"Marvels of engineering, the rover's sample tubes must be tough enough to safely bring Red Planet samples on the long journey back to Earth in immaculate condition. \"}, {'Title': \"NASA Readies Perseverance Mars Rover's Earthly Twin \", 'Preview': \"Did you know NASA's next Mars rover has a nearly identical sibling on Earth for testing? Even better, it's about to roll for the first time through a replica Martian landscape.\"}, {'Title': \"8 Martian Postcards to Celebrate Curiosity's Landing Anniversary\", 'Preview': 'The NASA rover touched down eight years ago, on Aug. 5, 2012, and will soon be joined by a second rover, Perseverance.'}, {'Title': 'Two Rovers to Roll on Mars Again: Curiosity and Mars 2020', 'Preview': 'They look like twins. But under the hood, the rover currently exploring the Red Planet and the one launching there this summer have distinct science tools and roles to play.'}]\n"
     ]
    }
   ],
   "source": [
    "Mars_articles = []\n",
    "\n",
    "rows = news_soup.find_all('div', class_=\"list_text\")\n",
    "for row in rows:\n",
    "    titles_and_previews = {}\n",
    "    \n",
    "    title_elem = row.find('div', class_='content_title')    \n",
    "    title = title_elem.get_text()\n",
    "    preview = row.find('div', class_='article_teaser_body').text\n",
    "    \n",
    "    titles_and_previews['Title'] = title\n",
    "    titles_and_previews['Preview'] = preview\n",
    "    \n",
    "    Mars_articles.append(titles_and_previews)\n",
    "    \n",
    "print(Mars_articles)\n",
    "    "
   ]
  },
  {
   "cell_type": "code",
   "execution_count": 40,
   "id": "601bf882",
   "metadata": {},
   "outputs": [
    {
     "data": {
      "text/plain": [
       "'[{\"Title\": \"NASA\\'s Perseverance Rover Will Carry First Spacesuit Materials to Mars\", \"Preview\": \"In a Q&A, spacesuit designer Amy Ross explains how five samples, including a piece of helmet visor, will be tested aboard the rover, which is targeting a July 30 launch. \"}, {\"Title\": \"NASA\\'s MAVEN Observes Martian Night Sky Pulsing in Ultraviolet Light\", \"Preview\": \"Vast areas of the Martian night sky pulse in ultraviolet light, according to images from NASA\\\\u2019s MAVEN spacecraft. The results are being used to illuminate complex circulation patterns in the Martian atmosphere.\"}, {\"Title\": \"Follow NASA\\'s Perseverance Rover in Real Time on Its Way to Mars\", \"Preview\": \"A crisply rendered web application can show you where the agency\\'s Mars 2020 mission is right now as it makes its way to the Red Planet for a Feb. 18, 2021, landing.\"}, {\"Title\": \"Join NASA for the Launch of the Mars 2020 Perseverance Rover\", \"Preview\": \"No matter where you live, choose from a menu of activities to join NASA as we \\\\\"Countdown to Mars\\\\\" and launch the Perseverance rover to the Red Planet.\"}, {\"Title\": \"NASA\\'s Perseverance Rover Bringing 3D-Printed Metal Parts to Mars\", \"Preview\": \"For hobbyists and makers, 3D printing expands creative possibilities; for specialized engineers, it\\'s also key to next-generation spacecraft design.\"}, {\"Title\": \"NASA\\'s Perseverance Rover 100 Days Out\", \"Preview\": \"Mark your calendars: The agency\\'s latest rover has only about 8,640,000 seconds to go before it touches down on the Red Planet, becoming history\\'s next Mars car.\"}, {\"Title\": \"The Launch Is Approaching for NASA\\'s Next Mars Rover, Perseverance\", \"Preview\": \"The Red Planet\\'s surface has been visited by eight NASA spacecraft. The ninth will be the first that includes a roundtrip ticket in its flight plan. \"}, {\"Title\": \"NASA Perseverance Mars Rover Scientists Train in the Nevada Desert\", \"Preview\": \"Team members searched for signs of ancient microscopic life there, just as NASA\\'s latest rover will on the Red Planet next year.\"}, {\"Title\": \"NASA Mars Mission Connects With Bosnian and Herzegovinian Town\", \"Preview\": \"A letter from NASA was presented to the mayor of Jezero, Bosnia-Herzegovina, honoring the connection between the town and Jezero Crater, the Mars 2020 rover landing site.\"}, {\"Title\": \"Two of a Space Kind: Apollo 12 and Mars 2020\", \"Preview\": \"Apollo 12 and the upcoming Mars 2020 mission may be separated by half a century, but they share several goals unique in the annals of space exploration.\"}, {\"Title\": \"NASA Establishes Board to Initially Review Mars Sample Return Plans\", \"Preview\": \"The board will assist with analysis of current plans and goals for one of the most difficult missions humanity has ever undertaken.\"}, {\"Title\": \"A Martian Roundtrip: NASA\\'s Perseverance Rover Sample Tubes\", \"Preview\": \"Marvels of engineering, the rover\\'s sample tubes must be tough enough to safely bring Red Planet samples on the long journey back to Earth in immaculate condition. \"}, {\"Title\": \"NASA Readies Perseverance Mars Rover\\'s Earthly Twin \", \"Preview\": \"Did you know NASA\\'s next Mars rover has a nearly identical sibling on Earth for testing? Even better, it\\'s about to roll for the first time through a replica Martian landscape.\"}, {\"Title\": \"8 Martian Postcards to Celebrate Curiosity\\'s Landing Anniversary\", \"Preview\": \"The NASA rover touched down eight years ago, on Aug. 5, 2012, and will soon be joined by a second rover, Perseverance.\"}, {\"Title\": \"Two Rovers to Roll on Mars Again: Curiosity and Mars 2020\", \"Preview\": \"They look like twins. But under the hood, the rover currently exploring the Red Planet and the one launching there this summer have distinct science tools and roles to play.\"}]'"
      ]
     },
     "execution_count": 40,
     "metadata": {},
     "output_type": "execute_result"
    }
   ],
   "source": [
    "#exporting the data into a JSON file\n",
    "import json\n",
    "json.dumps(Mars_articles)"
   ]
  },
  {
   "cell_type": "code",
   "execution_count": null,
   "id": "014306fa",
   "metadata": {},
   "outputs": [],
   "source": []
  }
 ],
 "metadata": {
  "kernelspec": {
   "display_name": "PythonData",
   "language": "python",
   "name": "pythondata"
  },
  "language_info": {
   "codemirror_mode": {
    "name": "ipython",
    "version": 3
   },
   "file_extension": ".py",
   "mimetype": "text/x-python",
   "name": "python",
   "nbconvert_exporter": "python",
   "pygments_lexer": "ipython3",
   "version": "3.9.12"
  }
 },
 "nbformat": 4,
 "nbformat_minor": 5
}
